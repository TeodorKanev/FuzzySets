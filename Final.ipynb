{
 "cells": [
  {
   "cell_type": "code",
   "execution_count": 1,
   "metadata": {},
   "outputs": [],
   "source": [
    "import numpy as np\n",
    "import pandas as pd"
   ]
  },
  {
   "cell_type": "code",
   "execution_count": 2,
   "metadata": {},
   "outputs": [],
   "source": [
    "df = pd.read_excel('Data/CTG.xls', sheet_name = 'Raw Data')"
   ]
  },
  {
   "cell_type": "code",
   "execution_count": 3,
   "metadata": {},
   "outputs": [
    {
     "data": {
      "text/html": [
       "<div>\n",
       "<style scoped>\n",
       "    .dataframe tbody tr th:only-of-type {\n",
       "        vertical-align: middle;\n",
       "    }\n",
       "\n",
       "    .dataframe tbody tr th {\n",
       "        vertical-align: top;\n",
       "    }\n",
       "\n",
       "    .dataframe thead th {\n",
       "        text-align: right;\n",
       "    }\n",
       "</style>\n",
       "<table border=\"1\" class=\"dataframe\">\n",
       "  <thead>\n",
       "    <tr style=\"text-align: right;\">\n",
       "      <th></th>\n",
       "      <th>FileName</th>\n",
       "      <th>Date</th>\n",
       "      <th>SegFile</th>\n",
       "      <th>b</th>\n",
       "      <th>e</th>\n",
       "      <th>LBE</th>\n",
       "      <th>LB</th>\n",
       "      <th>AC</th>\n",
       "      <th>FM</th>\n",
       "      <th>UC</th>\n",
       "      <th>...</th>\n",
       "      <th>C</th>\n",
       "      <th>D</th>\n",
       "      <th>E</th>\n",
       "      <th>AD</th>\n",
       "      <th>DE</th>\n",
       "      <th>LD</th>\n",
       "      <th>FS</th>\n",
       "      <th>SUSP</th>\n",
       "      <th>CLASS</th>\n",
       "      <th>NSP</th>\n",
       "    </tr>\n",
       "  </thead>\n",
       "  <tbody>\n",
       "    <tr>\n",
       "      <th>0</th>\n",
       "      <td>NaN</td>\n",
       "      <td>NaT</td>\n",
       "      <td>NaN</td>\n",
       "      <td>NaN</td>\n",
       "      <td>NaN</td>\n",
       "      <td>NaN</td>\n",
       "      <td>NaN</td>\n",
       "      <td>NaN</td>\n",
       "      <td>NaN</td>\n",
       "      <td>NaN</td>\n",
       "      <td>...</td>\n",
       "      <td>NaN</td>\n",
       "      <td>NaN</td>\n",
       "      <td>NaN</td>\n",
       "      <td>NaN</td>\n",
       "      <td>NaN</td>\n",
       "      <td>NaN</td>\n",
       "      <td>NaN</td>\n",
       "      <td>NaN</td>\n",
       "      <td>NaN</td>\n",
       "      <td>NaN</td>\n",
       "    </tr>\n",
       "    <tr>\n",
       "      <th>1</th>\n",
       "      <td>Variab10.txt</td>\n",
       "      <td>1996-12-01</td>\n",
       "      <td>CTG0001.txt</td>\n",
       "      <td>240.0</td>\n",
       "      <td>357.0</td>\n",
       "      <td>120.0</td>\n",
       "      <td>120.0</td>\n",
       "      <td>0.0</td>\n",
       "      <td>0.0</td>\n",
       "      <td>0.0</td>\n",
       "      <td>...</td>\n",
       "      <td>0.0</td>\n",
       "      <td>0.0</td>\n",
       "      <td>0.0</td>\n",
       "      <td>0.0</td>\n",
       "      <td>0.0</td>\n",
       "      <td>0.0</td>\n",
       "      <td>1.0</td>\n",
       "      <td>0.0</td>\n",
       "      <td>9.0</td>\n",
       "      <td>2.0</td>\n",
       "    </tr>\n",
       "    <tr>\n",
       "      <th>2</th>\n",
       "      <td>Fmcs_1.txt</td>\n",
       "      <td>1996-05-03</td>\n",
       "      <td>CTG0002.txt</td>\n",
       "      <td>5.0</td>\n",
       "      <td>632.0</td>\n",
       "      <td>132.0</td>\n",
       "      <td>132.0</td>\n",
       "      <td>4.0</td>\n",
       "      <td>0.0</td>\n",
       "      <td>4.0</td>\n",
       "      <td>...</td>\n",
       "      <td>0.0</td>\n",
       "      <td>0.0</td>\n",
       "      <td>0.0</td>\n",
       "      <td>1.0</td>\n",
       "      <td>0.0</td>\n",
       "      <td>0.0</td>\n",
       "      <td>0.0</td>\n",
       "      <td>0.0</td>\n",
       "      <td>6.0</td>\n",
       "      <td>1.0</td>\n",
       "    </tr>\n",
       "    <tr>\n",
       "      <th>3</th>\n",
       "      <td>Fmcs_1.txt</td>\n",
       "      <td>1996-05-03</td>\n",
       "      <td>CTG0003.txt</td>\n",
       "      <td>177.0</td>\n",
       "      <td>779.0</td>\n",
       "      <td>133.0</td>\n",
       "      <td>133.0</td>\n",
       "      <td>2.0</td>\n",
       "      <td>0.0</td>\n",
       "      <td>5.0</td>\n",
       "      <td>...</td>\n",
       "      <td>0.0</td>\n",
       "      <td>0.0</td>\n",
       "      <td>0.0</td>\n",
       "      <td>1.0</td>\n",
       "      <td>0.0</td>\n",
       "      <td>0.0</td>\n",
       "      <td>0.0</td>\n",
       "      <td>0.0</td>\n",
       "      <td>6.0</td>\n",
       "      <td>1.0</td>\n",
       "    </tr>\n",
       "    <tr>\n",
       "      <th>4</th>\n",
       "      <td>Fmcs_1.txt</td>\n",
       "      <td>1996-05-03</td>\n",
       "      <td>CTG0004.txt</td>\n",
       "      <td>411.0</td>\n",
       "      <td>1192.0</td>\n",
       "      <td>134.0</td>\n",
       "      <td>134.0</td>\n",
       "      <td>2.0</td>\n",
       "      <td>0.0</td>\n",
       "      <td>6.0</td>\n",
       "      <td>...</td>\n",
       "      <td>0.0</td>\n",
       "      <td>0.0</td>\n",
       "      <td>0.0</td>\n",
       "      <td>1.0</td>\n",
       "      <td>0.0</td>\n",
       "      <td>0.0</td>\n",
       "      <td>0.0</td>\n",
       "      <td>0.0</td>\n",
       "      <td>6.0</td>\n",
       "      <td>1.0</td>\n",
       "    </tr>\n",
       "    <tr>\n",
       "      <th>...</th>\n",
       "      <td>...</td>\n",
       "      <td>...</td>\n",
       "      <td>...</td>\n",
       "      <td>...</td>\n",
       "      <td>...</td>\n",
       "      <td>...</td>\n",
       "      <td>...</td>\n",
       "      <td>...</td>\n",
       "      <td>...</td>\n",
       "      <td>...</td>\n",
       "      <td>...</td>\n",
       "      <td>...</td>\n",
       "      <td>...</td>\n",
       "      <td>...</td>\n",
       "      <td>...</td>\n",
       "      <td>...</td>\n",
       "      <td>...</td>\n",
       "      <td>...</td>\n",
       "      <td>...</td>\n",
       "      <td>...</td>\n",
       "      <td>...</td>\n",
       "    </tr>\n",
       "    <tr>\n",
       "      <th>2125</th>\n",
       "      <td>S8001045.dsp</td>\n",
       "      <td>1998-06-06</td>\n",
       "      <td>CTG2127.txt</td>\n",
       "      <td>1576.0</td>\n",
       "      <td>3049.0</td>\n",
       "      <td>140.0</td>\n",
       "      <td>140.0</td>\n",
       "      <td>1.0</td>\n",
       "      <td>0.0</td>\n",
       "      <td>9.0</td>\n",
       "      <td>...</td>\n",
       "      <td>0.0</td>\n",
       "      <td>0.0</td>\n",
       "      <td>1.0</td>\n",
       "      <td>0.0</td>\n",
       "      <td>0.0</td>\n",
       "      <td>0.0</td>\n",
       "      <td>0.0</td>\n",
       "      <td>0.0</td>\n",
       "      <td>5.0</td>\n",
       "      <td>2.0</td>\n",
       "    </tr>\n",
       "    <tr>\n",
       "      <th>2126</th>\n",
       "      <td>S8001045.dsp</td>\n",
       "      <td>1998-06-06</td>\n",
       "      <td>CTG2128.txt</td>\n",
       "      <td>2796.0</td>\n",
       "      <td>3415.0</td>\n",
       "      <td>142.0</td>\n",
       "      <td>142.0</td>\n",
       "      <td>1.0</td>\n",
       "      <td>1.0</td>\n",
       "      <td>5.0</td>\n",
       "      <td>...</td>\n",
       "      <td>0.0</td>\n",
       "      <td>0.0</td>\n",
       "      <td>0.0</td>\n",
       "      <td>0.0</td>\n",
       "      <td>0.0</td>\n",
       "      <td>0.0</td>\n",
       "      <td>0.0</td>\n",
       "      <td>0.0</td>\n",
       "      <td>1.0</td>\n",
       "      <td>1.0</td>\n",
       "    </tr>\n",
       "    <tr>\n",
       "      <th>2127</th>\n",
       "      <td>NaN</td>\n",
       "      <td>NaT</td>\n",
       "      <td>NaN</td>\n",
       "      <td>NaN</td>\n",
       "      <td>NaN</td>\n",
       "      <td>NaN</td>\n",
       "      <td>NaN</td>\n",
       "      <td>NaN</td>\n",
       "      <td>NaN</td>\n",
       "      <td>NaN</td>\n",
       "      <td>...</td>\n",
       "      <td>NaN</td>\n",
       "      <td>NaN</td>\n",
       "      <td>NaN</td>\n",
       "      <td>NaN</td>\n",
       "      <td>NaN</td>\n",
       "      <td>NaN</td>\n",
       "      <td>NaN</td>\n",
       "      <td>NaN</td>\n",
       "      <td>NaN</td>\n",
       "      <td>NaN</td>\n",
       "    </tr>\n",
       "    <tr>\n",
       "      <th>2128</th>\n",
       "      <td>NaN</td>\n",
       "      <td>NaT</td>\n",
       "      <td>NaN</td>\n",
       "      <td>NaN</td>\n",
       "      <td>NaN</td>\n",
       "      <td>NaN</td>\n",
       "      <td>NaN</td>\n",
       "      <td>NaN</td>\n",
       "      <td>NaN</td>\n",
       "      <td>NaN</td>\n",
       "      <td>...</td>\n",
       "      <td>NaN</td>\n",
       "      <td>NaN</td>\n",
       "      <td>NaN</td>\n",
       "      <td>NaN</td>\n",
       "      <td>NaN</td>\n",
       "      <td>NaN</td>\n",
       "      <td>NaN</td>\n",
       "      <td>NaN</td>\n",
       "      <td>NaN</td>\n",
       "      <td>NaN</td>\n",
       "    </tr>\n",
       "    <tr>\n",
       "      <th>2129</th>\n",
       "      <td>NaN</td>\n",
       "      <td>NaT</td>\n",
       "      <td>NaN</td>\n",
       "      <td>NaN</td>\n",
       "      <td>NaN</td>\n",
       "      <td>NaN</td>\n",
       "      <td>NaN</td>\n",
       "      <td>NaN</td>\n",
       "      <td>564.0</td>\n",
       "      <td>23.0</td>\n",
       "      <td>...</td>\n",
       "      <td>NaN</td>\n",
       "      <td>NaN</td>\n",
       "      <td>NaN</td>\n",
       "      <td>NaN</td>\n",
       "      <td>NaN</td>\n",
       "      <td>NaN</td>\n",
       "      <td>NaN</td>\n",
       "      <td>NaN</td>\n",
       "      <td>NaN</td>\n",
       "      <td>NaN</td>\n",
       "    </tr>\n",
       "  </tbody>\n",
       "</table>\n",
       "<p>2130 rows × 40 columns</p>\n",
       "</div>"
      ],
      "text/plain": [
       "          FileName       Date      SegFile       b       e    LBE     LB   AC  \\\n",
       "0              NaN        NaT          NaN     NaN     NaN    NaN    NaN  NaN   \n",
       "1     Variab10.txt 1996-12-01  CTG0001.txt   240.0   357.0  120.0  120.0  0.0   \n",
       "2       Fmcs_1.txt 1996-05-03  CTG0002.txt     5.0   632.0  132.0  132.0  4.0   \n",
       "3       Fmcs_1.txt 1996-05-03  CTG0003.txt   177.0   779.0  133.0  133.0  2.0   \n",
       "4       Fmcs_1.txt 1996-05-03  CTG0004.txt   411.0  1192.0  134.0  134.0  2.0   \n",
       "...            ...        ...          ...     ...     ...    ...    ...  ...   \n",
       "2125  S8001045.dsp 1998-06-06  CTG2127.txt  1576.0  3049.0  140.0  140.0  1.0   \n",
       "2126  S8001045.dsp 1998-06-06  CTG2128.txt  2796.0  3415.0  142.0  142.0  1.0   \n",
       "2127           NaN        NaT          NaN     NaN     NaN    NaN    NaN  NaN   \n",
       "2128           NaN        NaT          NaN     NaN     NaN    NaN    NaN  NaN   \n",
       "2129           NaN        NaT          NaN     NaN     NaN    NaN    NaN  NaN   \n",
       "\n",
       "         FM    UC  ...    C    D    E   AD   DE   LD   FS  SUSP  CLASS  NSP  \n",
       "0       NaN   NaN  ...  NaN  NaN  NaN  NaN  NaN  NaN  NaN   NaN    NaN  NaN  \n",
       "1       0.0   0.0  ...  0.0  0.0  0.0  0.0  0.0  0.0  1.0   0.0    9.0  2.0  \n",
       "2       0.0   4.0  ...  0.0  0.0  0.0  1.0  0.0  0.0  0.0   0.0    6.0  1.0  \n",
       "3       0.0   5.0  ...  0.0  0.0  0.0  1.0  0.0  0.0  0.0   0.0    6.0  1.0  \n",
       "4       0.0   6.0  ...  0.0  0.0  0.0  1.0  0.0  0.0  0.0   0.0    6.0  1.0  \n",
       "...     ...   ...  ...  ...  ...  ...  ...  ...  ...  ...   ...    ...  ...  \n",
       "2125    0.0   9.0  ...  0.0  0.0  1.0  0.0  0.0  0.0  0.0   0.0    5.0  2.0  \n",
       "2126    1.0   5.0  ...  0.0  0.0  0.0  0.0  0.0  0.0  0.0   0.0    1.0  1.0  \n",
       "2127    NaN   NaN  ...  NaN  NaN  NaN  NaN  NaN  NaN  NaN   NaN    NaN  NaN  \n",
       "2128    NaN   NaN  ...  NaN  NaN  NaN  NaN  NaN  NaN  NaN   NaN    NaN  NaN  \n",
       "2129  564.0  23.0  ...  NaN  NaN  NaN  NaN  NaN  NaN  NaN   NaN    NaN  NaN  \n",
       "\n",
       "[2130 rows x 40 columns]"
      ]
     },
     "execution_count": 3,
     "metadata": {},
     "output_type": "execute_result"
    }
   ],
   "source": [
    "df"
   ]
  },
  {
   "cell_type": "code",
   "execution_count": 4,
   "metadata": {},
   "outputs": [],
   "source": [
    "df.drop(index = 0, axis = 0, inplace = True)\n",
    "df.drop(df.tail(3).index, inplace = True)"
   ]
  },
  {
   "cell_type": "code",
   "execution_count": 5,
   "metadata": {},
   "outputs": [
    {
     "data": {
      "text/plain": [
       "Index(['FileName', 'Date', 'SegFile', 'b', 'e', 'LBE', 'LB', 'AC', 'FM', 'UC',\n",
       "       'ASTV', 'MSTV', 'ALTV', 'MLTV', 'DL', 'DS', 'DP', 'DR', 'Width', 'Min',\n",
       "       'Max', 'Nmax', 'Nzeros', 'Mode', 'Mean', 'Median', 'Variance',\n",
       "       'Tendency', 'A', 'B', 'C', 'D', 'E', 'AD', 'DE', 'LD', 'FS', 'SUSP',\n",
       "       'CLASS', 'NSP'],\n",
       "      dtype='object')"
      ]
     },
     "execution_count": 5,
     "metadata": {},
     "output_type": "execute_result"
    }
   ],
   "source": [
    "df.columns"
   ]
  },
  {
   "cell_type": "code",
   "execution_count": 6,
   "metadata": {},
   "outputs": [],
   "source": [
    "df.drop(['FileName', 'Date', 'SegFile', 'b', 'e', 'LB','DR','Min', 'Max', 'Nmax', 'Nzeros', 'Mode', 'Mean', 'Median', 'Variance', 'AC', 'FM', 'UC', 'MSTV', 'MLTV', 'Width','A', 'B', 'C', 'D', 'E', 'AD', 'DE', 'LD', 'FS', 'SUSP', 'CLASS'],axis =1, inplace = True)"
   ]
  },
  {
   "cell_type": "code",
   "execution_count": 7,
   "metadata": {},
   "outputs": [
    {
     "data": {
      "text/plain": [
       "Index(['LBE', 'ASTV', 'ALTV', 'DL', 'DS', 'DP', 'Tendency', 'NSP'], dtype='object')"
      ]
     },
     "execution_count": 7,
     "metadata": {},
     "output_type": "execute_result"
    }
   ],
   "source": [
    "df.columns"
   ]
  },
  {
   "cell_type": "code",
   "execution_count": 8,
   "metadata": {},
   "outputs": [],
   "source": [
    "df['ASTV'] = df['ASTV']*10\n",
    "df['ALTV'] = df['ALTV']*10\n",
    "df['Tendency'] += 1"
   ]
  },
  {
   "cell_type": "code",
   "execution_count": 9,
   "metadata": {},
   "outputs": [],
   "source": [
    "import skfuzzy as fuzz"
   ]
  },
  {
   "cell_type": "code",
   "execution_count": 10,
   "metadata": {},
   "outputs": [],
   "source": [
    "def createLinguisticVariables(df, column):\n",
    "    columnMin = df[column].min()\n",
    "    columnMax = df[column].max()\n",
    "    rangeDistance = columnMax - columnMin\n",
    "    columnRange = np.array(range(0,(int)(columnMax + 1)))\n",
    "    columnLow = fuzz.membership.zmf(columnRange,columnMin + rangeDistance*0.1,columnMin + rangeDistance*0.5)\n",
    "    columnMid = fuzz.membership.trimf(columnRange, [columnMin + rangeDistance*0.25, columnMin + rangeDistance*0.5, columnMin + rangeDistance*0.75])\n",
    "    columnHigh = fuzz.membership.trapmf(columnRange, [columnMin + rangeDistance*0.66,columnMin + rangeDistance*0.9, columnMax+1, columnMax+2])\n",
    "    return [columnLow, columnMid, columnHigh]"
   ]
  },
  {
   "cell_type": "code",
   "execution_count": 11,
   "metadata": {},
   "outputs": [],
   "source": [
    "def createMembershipDictionary(df):\n",
    "    dictionary = {}\n",
    "    for column in df.columns[:-1]:\n",
    "        dictionary[column] = createLinguisticVariables(df,column)\n",
    "    return dictionary"
   ]
  },
  {
   "cell_type": "code",
   "execution_count": 12,
   "metadata": {},
   "outputs": [],
   "source": [
    "def ruleFiringStrength(rule, membershipDict, x):\n",
    "    ruleLength = len(rule)\n",
    "    columns = df.columns\n",
    "    currentMin = 1\n",
    "    isValid = False\n",
    "    for index in range(0,len(rule) - 1):\n",
    "        if rule[index] == -1:\n",
    "            continue\n",
    "        isValid = True\n",
    "        currentMembership = membershipDict[columns[index]][rule[index]][int(x[columns[index]])]\n",
    "        if currentMin > currentMembership:\n",
    "            currentMin = currentMembership\n",
    "    if isValid == False:\n",
    "        return (0,rule[len(rule) - 1])\n",
    "    return (currentMin, rule[len(rule) - 1])"
   ]
  },
  {
   "cell_type": "code",
   "execution_count": 13,
   "metadata": {},
   "outputs": [],
   "source": [
    "def fuzzyClassifyFromRules(rules, classesNumber, membershipDict, x):\n",
    "    result = [0 for i in range(classesNumber)]\n",
    "    for rule in rules:\n",
    "        membership, classOutput = ruleFiringStrength(rule, membershipDict, x)\n",
    "        if result[classOutput] < membership:\n",
    "            result[classOutput] = membership\n",
    "    return result"
   ]
  },
  {
   "cell_type": "code",
   "execution_count": 14,
   "metadata": {},
   "outputs": [],
   "source": [
    "def defuzzyfication(membership):\n",
    "    maxValue = np.array(membership).max()\n",
    "    if maxValue == 0:\n",
    "        return [0]\n",
    "    result = []\n",
    "    for index in range(0,len(membership)):\n",
    "        if membership[index] == maxValue:\n",
    "            result.append(index)\n",
    "    return result"
   ]
  },
  {
   "cell_type": "code",
   "execution_count": 15,
   "metadata": {},
   "outputs": [],
   "source": [
    "def predictionScore(correctClass, membership):\n",
    "    return correctClass in membership"
   ]
  },
  {
   "cell_type": "code",
   "execution_count": 16,
   "metadata": {},
   "outputs": [],
   "source": [
    "import itertools"
   ]
  },
  {
   "cell_type": "code",
   "execution_count": 17,
   "metadata": {},
   "outputs": [],
   "source": [
    "def generateAllRules(linguisticVariables, predictingClass, features):\n",
    "    return [list(x) + [predictingClass] for x in list(itertools.product(range(-1,linguisticVariables), repeat=features))]"
   ]
  },
  {
   "cell_type": "code",
   "execution_count": 18,
   "metadata": {},
   "outputs": [],
   "source": [
    "def fitnessFunction(rule, X_train, y_train, membershipDict):\n",
    "    error = 0\n",
    "    predictingClass = rule[len(rule)-1]\n",
    "    for i in range(len(X_train)):\n",
    "        membership, _ = ruleFiringStrength(rule, membershipDict, X_train.iloc[i])\n",
    "        if y_train.iloc[i] == predictingClass + 1:\n",
    "            error = error + 1 - membership\n",
    "        else:\n",
    "            error = error + 1 + membership\n",
    "    return error"
   ]
  },
  {
   "cell_type": "code",
   "execution_count": 19,
   "metadata": {},
   "outputs": [],
   "source": [
    "def calculateRulesAccuracy(rules, X_train, y_train, membershipDict):\n",
    "    return [(rule,fitnessFunction(rule,X_train, y_train, membershipDict)) for rule in rules]"
   ]
  },
  {
   "cell_type": "code",
   "execution_count": 20,
   "metadata": {},
   "outputs": [],
   "source": [
    "dict = createMembershipDictionary(df)"
   ]
  },
  {
   "cell_type": "code",
   "execution_count": 21,
   "metadata": {},
   "outputs": [],
   "source": [
    "def modelAccuracy(model, numberClasses, membershipDict, X_test, y_test):\n",
    "    correctPredicted = 0\n",
    "    for i in range(len(X_test)):\n",
    "        fuzzyResult = fuzzyClassifyFromRules(model, numberClasses, membershipDict,X_test.iloc[i])\n",
    "        classOutputList = defuzzyfication(fuzzyResult)\n",
    "        correctPredicted += predictionScore(y_test.iloc[i] - 1, classOutputList)\n",
    "    return correctPredicted"
   ]
  },
  {
   "cell_type": "code",
   "execution_count": 22,
   "metadata": {},
   "outputs": [],
   "source": [
    "def classAccuracy(model, predictClass, membershipDict, X_test, y_test):\n",
    "    correctPredicted = 0\n",
    "    allClass = 0\n",
    "    for i in range(len(X_test)):\n",
    "        if y_test.iloc[i] != predictClass:\n",
    "            continue\n",
    "        allClass += 1\n",
    "        fuzzyResult = fuzzyClassifyFromRules(model,3,membershipDict,X_test.iloc[i])\n",
    "        classOutputList = defuzzyfication(fuzzyResult)\n",
    "        correctPredicted += predictionScore(y_test.iloc[i] - 1,classOutputList)\n",
    "    return correctPredicted"
   ]
  },
  {
   "cell_type": "code",
   "execution_count": 46,
   "metadata": {},
   "outputs": [],
   "source": [
    "def findBestModelForClass(rulesList, predictedClass, X_train, y_train, membershipDict):\n",
    "    result = []\n",
    "    model = []\n",
    "    currentMax = -1\n",
    "    for i in range(len(rulesList)):\n",
    "        if (i%100 == 0):\n",
    "            print(i)\n",
    "        model.append(rulesList[i][0])\n",
    "        newMax = classAccuracy(model, predictedClass, membershipDict, X_train, y_train)\n",
    "        if (currentMax < newMax):\n",
    "            currentMax = newMax\n",
    "            result.append(i)\n",
    "        else:\n",
    "            model = model[:-1]\n",
    "    return result"
   ]
  },
  {
   "cell_type": "code",
   "execution_count": 24,
   "metadata": {},
   "outputs": [],
   "source": [
    "from sklearn.model_selection import train_test_split"
   ]
  },
  {
   "cell_type": "code",
   "execution_count": 25,
   "metadata": {},
   "outputs": [],
   "source": [
    "X_train, X_test, y_train, y_test = train_test_split(df.drop(['NSP'],axis = 1), df['NSP'], test_size=0.20, random_state=7777)"
   ]
  },
  {
   "cell_type": "code",
   "execution_count": 26,
   "metadata": {},
   "outputs": [],
   "source": [
    "rulesForClass0 = calculateRulesAccuracy(generateAllRules(3,0,len(X_train.columns)), X_train, y_train, dict)"
   ]
  },
  {
   "cell_type": "code",
   "execution_count": 27,
   "metadata": {},
   "outputs": [],
   "source": [
    "rulesForClass1 = calculateRulesAccuracy(generateAllRules(3,1,len(X_train.columns)),X_train, y_train, dict)"
   ]
  },
  {
   "cell_type": "code",
   "execution_count": 28,
   "metadata": {},
   "outputs": [],
   "source": [
    "rulesForClass2 = calculateRulesAccuracy(generateAllRules(3,2,len(X_train.columns)),X_train, y_train, dict)"
   ]
  },
  {
   "cell_type": "code",
   "execution_count": 29,
   "metadata": {},
   "outputs": [],
   "source": [
    "rulesForClass0.sort(key=lambda x:x[1])"
   ]
  },
  {
   "cell_type": "code",
   "execution_count": 30,
   "metadata": {},
   "outputs": [],
   "source": [
    "rulesForClass1.sort(key=lambda x:x[1])"
   ]
  },
  {
   "cell_type": "code",
   "execution_count": 31,
   "metadata": {},
   "outputs": [],
   "source": [
    "rulesForClass2.sort(key=lambda x:x[1])"
   ]
  },
  {
   "cell_type": "code",
   "execution_count": 34,
   "metadata": {},
   "outputs": [
    {
     "name": "stdout",
     "output_type": "stream",
     "text": [
      "0\n",
      "100\n",
      "200\n",
      "300\n",
      "400\n",
      "500\n",
      "600\n",
      "700\n",
      "800\n",
      "900\n",
      "1000\n",
      "1100\n",
      "1200\n",
      "1300\n",
      "1400\n",
      "1500\n",
      "1600\n",
      "1700\n",
      "1800\n",
      "1900\n",
      "2000\n",
      "2100\n",
      "2200\n",
      "2300\n",
      "2400\n",
      "2500\n",
      "2600\n",
      "2700\n",
      "2800\n",
      "2900\n",
      "3000\n",
      "3100\n",
      "3200\n",
      "3300\n",
      "3400\n",
      "3500\n",
      "3600\n",
      "3700\n",
      "3800\n",
      "3900\n",
      "4000\n",
      "4100\n",
      "4200\n",
      "4300\n",
      "4400\n",
      "4500\n",
      "4600\n",
      "4700\n",
      "4800\n",
      "4900\n",
      "5000\n",
      "5100\n",
      "5200\n",
      "5300\n",
      "5400\n",
      "5500\n",
      "5600\n",
      "5700\n",
      "5800\n",
      "5900\n",
      "6000\n",
      "6100\n",
      "6200\n",
      "6300\n",
      "6400\n",
      "6500\n",
      "6600\n",
      "6700\n",
      "6800\n",
      "6900\n",
      "7000\n",
      "7100\n",
      "7200\n",
      "7300\n",
      "7400\n",
      "7500\n",
      "7600\n",
      "7700\n",
      "7800\n",
      "7900\n",
      "8000\n",
      "8100\n",
      "8200\n",
      "8300\n",
      "8400\n",
      "8500\n",
      "8600\n",
      "8700\n",
      "8800\n",
      "8900\n",
      "9000\n",
      "9100\n",
      "9200\n",
      "9300\n",
      "9400\n",
      "9500\n",
      "9600\n",
      "9700\n",
      "9800\n",
      "9900\n",
      "10000\n",
      "10100\n",
      "10200\n",
      "10300\n",
      "10400\n",
      "10500\n",
      "10600\n",
      "10700\n",
      "10800\n",
      "10900\n",
      "11000\n",
      "11100\n",
      "11200\n",
      "11300\n",
      "11400\n",
      "11500\n",
      "11600\n",
      "11700\n",
      "11800\n",
      "11900\n",
      "12000\n",
      "12100\n",
      "12200\n",
      "12300\n",
      "12400\n",
      "12500\n",
      "12600\n",
      "12700\n",
      "12800\n",
      "12900\n",
      "13000\n",
      "13100\n",
      "13200\n",
      "13300\n",
      "13400\n",
      "13500\n",
      "13600\n",
      "13700\n",
      "13800\n",
      "13900\n",
      "14000\n",
      "14100\n",
      "14200\n",
      "14300\n",
      "14400\n",
      "14500\n",
      "14600\n",
      "14700\n",
      "14800\n",
      "14900\n",
      "15000\n",
      "15100\n",
      "15200\n",
      "15300\n",
      "15400\n",
      "15500\n",
      "15600\n",
      "15700\n",
      "15800\n",
      "15900\n",
      "16000\n",
      "16100\n",
      "16200\n",
      "16300\n"
     ]
    }
   ],
   "source": [
    "bestRulesForClass0 = findBestModelForClass(rulesForClass0, 1, X_train, y_train, dict)"
   ]
  },
  {
   "cell_type": "code",
   "execution_count": 48,
   "metadata": {},
   "outputs": [
    {
     "name": "stdout",
     "output_type": "stream",
     "text": [
      "0\n",
      "0\n",
      "16\n",
      "40\n",
      "64\n",
      "72\n",
      "100\n",
      "176\n",
      "186\n",
      "200\n",
      "234\n",
      "300\n",
      "400\n",
      "500\n",
      "600\n",
      "700\n",
      "800\n",
      "900\n",
      "1000\n",
      "1100\n",
      "1200\n",
      "1300\n",
      "1400\n",
      "1500\n",
      "1600\n",
      "1700\n",
      "1800\n",
      "1900\n",
      "2000\n",
      "2100\n",
      "2200\n",
      "2300\n",
      "2400\n",
      "2500\n",
      "2600\n",
      "2700\n",
      "2800\n",
      "2900\n",
      "3000\n",
      "3100\n",
      "3200\n",
      "3300\n",
      "3400\n",
      "3500\n",
      "3600\n",
      "3700\n",
      "3800\n",
      "3900\n",
      "4000\n",
      "4100\n",
      "4200\n",
      "4300\n",
      "4400\n",
      "4500\n",
      "4600\n",
      "4700\n",
      "4800\n",
      "4900\n",
      "5000\n",
      "5100\n",
      "5200\n",
      "5300\n",
      "5400\n",
      "5500\n",
      "5600\n",
      "5700\n",
      "5800\n",
      "5900\n",
      "6000\n",
      "6100\n",
      "6200\n",
      "6300\n",
      "6400\n",
      "6500\n",
      "6600\n",
      "6700\n",
      "6800\n",
      "6900\n",
      "7000\n",
      "7100\n",
      "7200\n",
      "7300\n",
      "7400\n",
      "7500\n",
      "7600\n",
      "7700\n",
      "7800\n",
      "7900\n",
      "8000\n",
      "8100\n",
      "8200\n",
      "8300\n",
      "8400\n",
      "8500\n",
      "8600\n",
      "8700\n",
      "8800\n",
      "8900\n",
      "9000\n",
      "9100\n",
      "9200\n",
      "9300\n",
      "9400\n",
      "9500\n",
      "9600\n",
      "9700\n",
      "9800\n",
      "9900\n",
      "10000\n",
      "10100\n",
      "10200\n",
      "10300\n",
      "10400\n",
      "10500\n",
      "10600\n",
      "10700\n",
      "10800\n",
      "10900\n",
      "11000\n",
      "11100\n",
      "11200\n",
      "11300\n",
      "11400\n",
      "11500\n",
      "11600\n",
      "11700\n",
      "11800\n",
      "11900\n",
      "12000\n",
      "12100\n",
      "12200\n",
      "12300\n",
      "12400\n",
      "12500\n",
      "12545\n",
      "12600\n",
      "12700\n",
      "12800\n",
      "12900\n",
      "13000\n",
      "13100\n",
      "13200\n",
      "13300\n",
      "13400\n",
      "13500\n",
      "13600\n",
      "13700\n",
      "13800\n",
      "13900\n",
      "14000\n",
      "14100\n",
      "14200\n",
      "14300\n",
      "14400\n",
      "14425\n",
      "14500\n",
      "14600\n",
      "14654\n",
      "14700\n",
      "14781\n",
      "14800\n",
      "14811\n",
      "14900\n",
      "14904\n",
      "15000\n",
      "15050\n",
      "15100\n",
      "15171\n",
      "15200\n",
      "15300\n",
      "15370\n",
      "15400\n",
      "15414\n",
      "15482\n",
      "15500\n",
      "15600\n",
      "15700\n",
      "15792\n",
      "15800\n",
      "15900\n",
      "15905\n",
      "16000\n",
      "16022\n",
      "16031\n",
      "16033\n",
      "16068\n",
      "16087\n",
      "16100\n",
      "16200\n",
      "16300\n"
     ]
    }
   ],
   "source": [
    "bestRulesForClass1 = findBestModelForClass(rulesForClass1, 2, X_train, y_train, dict)"
   ]
  },
  {
   "cell_type": "code",
   "execution_count": 52,
   "metadata": {},
   "outputs": [
    {
     "name": "stdout",
     "output_type": "stream",
     "text": [
      "0\n",
      "0\n",
      "8\n",
      "100\n",
      "104\n",
      "144\n",
      "170\n",
      "200\n",
      "300\n",
      "388\n",
      "400\n",
      "408\n",
      "500\n",
      "600\n",
      "700\n",
      "750\n",
      "768\n",
      "800\n",
      "900\n",
      "901\n",
      "1000\n",
      "1100\n",
      "1200\n",
      "1300\n",
      "1362\n",
      "1400\n",
      "1500\n",
      "1600\n",
      "1700\n",
      "1800\n",
      "1900\n",
      "2000\n",
      "2100\n",
      "2200\n",
      "2300\n",
      "2400\n",
      "2500\n",
      "2600\n",
      "2700\n",
      "2800\n",
      "2900\n",
      "3000\n",
      "3100\n",
      "3200\n",
      "3300\n",
      "3400\n",
      "3500\n",
      "3600\n",
      "3700\n",
      "3800\n",
      "3900\n",
      "4000\n",
      "4100\n",
      "4200\n",
      "4300\n",
      "4400\n",
      "4500\n",
      "4600\n",
      "4700\n",
      "4800\n",
      "4900\n",
      "5000\n",
      "5100\n",
      "5200\n",
      "5300\n",
      "5400\n",
      "5500\n",
      "5600\n",
      "5700\n",
      "5800\n",
      "5900\n",
      "6000\n",
      "6100\n",
      "6200\n",
      "6300\n",
      "6400\n",
      "6500\n",
      "6600\n",
      "6700\n",
      "6800\n",
      "6900\n",
      "7000\n",
      "7100\n",
      "7200\n",
      "7300\n",
      "7400\n",
      "7500\n",
      "7600\n",
      "7700\n",
      "7800\n",
      "7900\n",
      "8000\n",
      "8100\n",
      "8200\n",
      "8300\n",
      "8400\n",
      "8500\n",
      "8600\n",
      "8700\n",
      "8800\n",
      "8900\n",
      "9000\n",
      "9100\n",
      "9200\n",
      "9300\n",
      "9400\n",
      "9500\n",
      "9600\n",
      "9700\n",
      "9800\n",
      "9900\n",
      "10000\n",
      "10100\n",
      "10200\n",
      "10300\n",
      "10400\n",
      "10500\n",
      "10600\n",
      "10700\n",
      "10800\n",
      "10900\n",
      "11000\n",
      "11100\n",
      "11200\n",
      "11300\n",
      "11400\n",
      "11500\n",
      "11600\n",
      "11700\n",
      "11800\n",
      "11900\n",
      "12000\n",
      "12100\n",
      "12200\n",
      "12300\n",
      "12400\n",
      "12500\n",
      "12600\n",
      "12700\n",
      "12800\n",
      "12900\n",
      "13000\n",
      "13100\n",
      "13200\n",
      "13300\n",
      "13400\n",
      "13500\n",
      "13600\n",
      "13700\n",
      "13800\n",
      "13900\n",
      "14000\n",
      "14100\n",
      "14200\n",
      "14300\n",
      "14400\n",
      "14500\n",
      "14600\n",
      "14700\n",
      "14738\n",
      "14800\n",
      "14861\n",
      "14900\n",
      "14913\n",
      "15000\n",
      "15001\n",
      "15011\n",
      "15100\n",
      "15200\n",
      "15232\n",
      "15247\n",
      "15300\n",
      "15347\n",
      "15400\n",
      "15500\n",
      "15526\n",
      "15555\n",
      "15600\n",
      "15700\n",
      "15800\n",
      "15826\n",
      "15900\n",
      "16000\n",
      "16025\n",
      "16065\n",
      "16069\n",
      "16100\n",
      "16200\n",
      "16300\n"
     ]
    }
   ],
   "source": [
    "bestRulesForClass2 = findBestModelForClass(rulesForClass2, 3, X_train, y_train, dict)"
   ]
  },
  {
   "cell_type": "code",
   "execution_count": 60,
   "metadata": {},
   "outputs": [],
   "source": [
    "model = [rulesForClass0[index][0] for index in bestRulesForClass0] + [rulesForClass1[index][0] for index in bestRulesForClass1] + [rulesForClass2[index][0] for index in bestRulesForClass2]"
   ]
  },
  {
   "cell_type": "code",
   "execution_count": 61,
   "metadata": {},
   "outputs": [
    {
     "data": {
      "text/plain": [
       "[[-1, -1, 0, -1, 0, 0, -1, 0],\n",
       " [-1, 2, 1, -1, -1, -1, -1, 1],\n",
       " [-1, -1, 1, 0, -1, -1, 2, 1],\n",
       " [2, 2, -1, -1, -1, -1, 2, 1],\n",
       " [-1, -1, 1, 0, -1, -1, -1, 1],\n",
       " [2, 2, -1, 0, -1, -1, -1, 1],\n",
       " [-1, 2, -1, 0, -1, 0, 2, 1],\n",
       " [-1, -1, -1, -1, -1, 2, 2, 1],\n",
       " [-1, 0, -1, 1, -1, -1, 0, 1],\n",
       " [2, 0, -1, 1, -1, -1, 1, 1],\n",
       " [0, 2, 0, 0, 0, 0, 0, 1],\n",
       " [2, -1, -1, -1, -1, -1, 0, 1],\n",
       " [0, 2, 0, 0, -1, 0, 1, 1],\n",
       " [1, 1, -1, 0, -1, 1, 1, 1],\n",
       " [1, 2, 0, -1, 0, 0, 0, 1],\n",
       " [0, 0, -1, 1, -1, -1, 1, 1],\n",
       " [2, -1, -1, 0, -1, -1, 2, 1],\n",
       " [2, 0, 0, -1, -1, -1, 1, 1],\n",
       " [1, 2, 0, 0, -1, 0, 1, 1],\n",
       " [2, 1, 0, 0, -1, -1, 1, 1],\n",
       " [0, 1, 0, 0, 0, -1, 2, 1],\n",
       " [0, 1, 0, 0, -1, 0, 1, 1],\n",
       " [1, 0, 0, 0, 0, 0, 2, 1],\n",
       " [0, 0, 0, 0, -1, 0, 1, 1],\n",
       " [1, 1, 0, 0, 0, 0, 2, 1],\n",
       " [1, 1, 0, 0, -1, 0, 1, 1],\n",
       " [1, 0, 0, 0, -1, 0, 1, 1],\n",
       " [-1, -1, 0, -1, -1, 1, -1, 2],\n",
       " [-1, -1, 2, -1, -1, -1, -1, 2],\n",
       " [0, -1, -1, 1, -1, -1, 0, 2],\n",
       " [-1, -1, -1, -1, -1, 2, -1, 2],\n",
       " [-1, -1, -1, -1, 2, -1, -1, 2],\n",
       " [-1, 2, -1, 1, -1, -1, -1, 2],\n",
       " [0, 2, 0, -1, -1, -1, 0, 2],\n",
       " [0, -1, -1, 2, -1, -1, -1, 2],\n",
       " [0, 2, 0, 0, -1, -1, 2, 2],\n",
       " [-1, 2, 0, -1, -1, -1, 0, 2],\n",
       " [0, 2, -1, 0, -1, -1, 2, 2],\n",
       " [1, 1, 0, 0, -1, -1, 0, 2],\n",
       " [2, 2, 1, -1, -1, -1, 1, 2],\n",
       " [2, 2, -1, 0, -1, -1, 1, 2],\n",
       " [2, 2, 0, 0, -1, -1, 2, 2],\n",
       " [0, 1, -1, 1, -1, -1, 1, 2],\n",
       " [1, 2, 0, 0, -1, -1, 2, 2],\n",
       " [1, 1, -1, 1, -1, -1, 1, 2],\n",
       " [1, 2, 1, -1, -1, -1, 1, 2],\n",
       " [1, 1, -1, 1, -1, -1, 2, 2],\n",
       " [0, 0, -1, 0, -1, 0, 2, 2],\n",
       " [0, 1, 0, 0, -1, -1, 1, 2],\n",
       " [0, 0, 0, 0, -1, 0, 1, 2],\n",
       " [1, 1, 0, 0, -1, -1, 2, 2],\n",
       " [1, 0, 0, 0, -1, -1, 1, 2]]"
      ]
     },
     "execution_count": 61,
     "metadata": {},
     "output_type": "execute_result"
    }
   ],
   "source": [
    "model"
   ]
  },
  {
   "cell_type": "code",
   "execution_count": 62,
   "metadata": {},
   "outputs": [],
   "source": [
    "import pickle"
   ]
  },
  {
   "cell_type": "code",
   "execution_count": 66,
   "metadata": {},
   "outputs": [],
   "source": [
    "with open('rules7variables.txt','wb') as f:\n",
    "    pickle.dump(model, f)"
   ]
  },
  {
   "cell_type": "code",
   "execution_count": 67,
   "metadata": {},
   "outputs": [],
   "source": [
    "with open('rules7variables.txt','rb') as f:\n",
    "    model2 = pickle.load(f)"
   ]
  },
  {
   "cell_type": "code",
   "execution_count": 69,
   "metadata": {},
   "outputs": [
    {
     "data": {
      "text/plain": [
       "0.8552941176470589"
      ]
     },
     "execution_count": 69,
     "metadata": {},
     "output_type": "execute_result"
    }
   ],
   "source": [
    "modelAccuracy(model, 3, dict, X_train, y_train) / len(X_train)"
   ]
  },
  {
   "cell_type": "code",
   "execution_count": 70,
   "metadata": {},
   "outputs": [
    {
     "data": {
      "text/plain": [
       "0.8591549295774648"
      ]
     },
     "execution_count": 70,
     "metadata": {},
     "output_type": "execute_result"
    }
   ],
   "source": [
    "modelAccuracy(model, 3, dict, X_test, y_test) / len(X_test)"
   ]
  },
  {
   "cell_type": "code",
   "execution_count": 77,
   "metadata": {},
   "outputs": [],
   "source": [
    "def cleanRules(model, X_train, y_train, membershipDict):\n",
    "    result = []\n",
    "    startAccuracy = modelAccuracy(model, 3, membershipDict, X_train, y_train)\n",
    "    for i in range(0,len(model)):\n",
    "        newAccuracy = modelAccuracy(model[:i] + model[i+1:], 3, membershipDict, X_train, y_train)\n",
    "        if (newAccuracy >= startAccuracy):\n",
    "            result.append(i)\n",
    "            model = model[:i] + model[i+1:]\n",
    "    return model"
   ]
  },
  {
   "cell_type": "code",
   "execution_count": 78,
   "metadata": {},
   "outputs": [],
   "source": [
    "cleanedModel = cleanRules(model, X_train, y_train, dict)"
   ]
  },
  {
   "cell_type": "code",
   "execution_count": 79,
   "metadata": {},
   "outputs": [
    {
     "data": {
      "text/plain": [
       "52"
      ]
     },
     "execution_count": 79,
     "metadata": {},
     "output_type": "execute_result"
    }
   ],
   "source": [
    "len(model)"
   ]
  },
  {
   "cell_type": "code",
   "execution_count": 80,
   "metadata": {},
   "outputs": [
    {
     "data": {
      "text/plain": [
       "30"
      ]
     },
     "execution_count": 80,
     "metadata": {},
     "output_type": "execute_result"
    }
   ],
   "source": [
    "len(cleanedModel)"
   ]
  },
  {
   "cell_type": "code",
   "execution_count": 81,
   "metadata": {},
   "outputs": [
    {
     "data": {
      "text/plain": [
       "0.8552941176470589"
      ]
     },
     "execution_count": 81,
     "metadata": {},
     "output_type": "execute_result"
    }
   ],
   "source": [
    "modelAccuracy(cleanedModel, 3, dict, X_train, y_train) / len(X_train)"
   ]
  },
  {
   "cell_type": "code",
   "execution_count": 82,
   "metadata": {},
   "outputs": [
    {
     "data": {
      "text/plain": [
       "0.8591549295774648"
      ]
     },
     "execution_count": 82,
     "metadata": {},
     "output_type": "execute_result"
    }
   ],
   "source": [
    "modelAccuracy(cleanedModel, 3, dict, X_test, y_test) / len(X_test)"
   ]
  },
  {
   "cell_type": "code",
   "execution_count": 85,
   "metadata": {},
   "outputs": [
    {
     "data": {
      "text/plain": [
       "[[-1, -1, 0, -1, 0, 0, -1, 0],\n",
       " [-1, -1, 1, 0, -1, -1, 2, 1],\n",
       " [-1, -1, 1, 0, -1, -1, -1, 1],\n",
       " [-1, 2, -1, 0, -1, 0, 2, 1],\n",
       " [-1, -1, -1, -1, -1, 2, 2, 1],\n",
       " [2, 0, -1, 1, -1, -1, 1, 1],\n",
       " [2, -1, -1, -1, -1, -1, 0, 1],\n",
       " [1, 1, -1, 0, -1, 1, 1, 1],\n",
       " [0, 0, -1, 1, -1, -1, 1, 1],\n",
       " [2, -1, -1, 0, -1, -1, 2, 1],\n",
       " [1, 2, 0, 0, -1, 0, 1, 1],\n",
       " [0, 1, 0, 0, 0, -1, 2, 1],\n",
       " [1, 0, 0, 0, 0, 0, 2, 1],\n",
       " [1, 1, 0, 0, 0, 0, 2, 1],\n",
       " [1, 0, 0, 0, -1, 0, 1, 1],\n",
       " [-1, -1, 0, -1, -1, 1, -1, 2],\n",
       " [-1, -1, 2, -1, -1, -1, -1, 2],\n",
       " [0, -1, -1, 1, -1, -1, 0, 2],\n",
       " [-1, -1, -1, -1, -1, 2, -1, 2],\n",
       " [-1, 2, -1, 1, -1, -1, -1, 2],\n",
       " [0, -1, -1, 2, -1, -1, -1, 2],\n",
       " [-1, 2, 0, -1, -1, -1, 0, 2],\n",
       " [1, 1, 0, 0, -1, -1, 0, 2],\n",
       " [2, 2, -1, 0, -1, -1, 1, 2],\n",
       " [0, 1, -1, 1, -1, -1, 1, 2],\n",
       " [1, 2, 0, 0, -1, -1, 2, 2],\n",
       " [1, 2, 1, -1, -1, -1, 1, 2],\n",
       " [0, 0, -1, 0, -1, 0, 2, 2],\n",
       " [0, 0, 0, 0, -1, 0, 1, 2],\n",
       " [1, 0, 0, 0, -1, -1, 1, 2]]"
      ]
     },
     "execution_count": 85,
     "metadata": {},
     "output_type": "execute_result"
    }
   ],
   "source": [
    "cleanedModel"
   ]
  },
  {
   "cell_type": "code",
   "execution_count": 93,
   "metadata": {},
   "outputs": [],
   "source": [
    "def predictionScore(correctClass, membership):\n",
    "    return correctClass == max(membership)"
   ]
  },
  {
   "cell_type": "code",
   "execution_count": 94,
   "metadata": {},
   "outputs": [
    {
     "data": {
      "text/plain": [
       "0.8352941176470589"
      ]
     },
     "execution_count": 94,
     "metadata": {},
     "output_type": "execute_result"
    }
   ],
   "source": [
    "modelAccuracy(cleanedModel, 3, dict, X_train, y_train) / len(X_train)"
   ]
  },
  {
   "cell_type": "code",
   "execution_count": 95,
   "metadata": {},
   "outputs": [
    {
     "data": {
      "text/plain": [
       "0.8427230046948356"
      ]
     },
     "execution_count": 95,
     "metadata": {},
     "output_type": "execute_result"
    }
   ],
   "source": [
    "modelAccuracy(cleanedModel, 3, dict, X_test, y_test) / len(X_test)"
   ]
  },
  {
   "cell_type": "code",
   "execution_count": 96,
   "metadata": {},
   "outputs": [],
   "source": [
    "def ruleFiringStrength(rule, membershipDict, x):\n",
    "    ruleLength = len(rule)\n",
    "    columns = df.columns\n",
    "    currentMin = 1\n",
    "    isValid = False\n",
    "    for index in range(0,len(rule) - 1):\n",
    "        if rule[index] == -1:\n",
    "            continue\n",
    "        isValid = True\n",
    "        currentMembership = membershipDict[columns[index]][rule[index]][int(x[columns[index]])]\n",
    "        currentMin *= currentMembership\n",
    "    if isValid == False:\n",
    "        return (0,rule[len(rule) - 1])\n",
    "    return (currentMin, rule[len(rule) - 1])"
   ]
  },
  {
   "cell_type": "code",
   "execution_count": 97,
   "metadata": {},
   "outputs": [
    {
     "data": {
      "text/plain": [
       "0.8464705882352941"
      ]
     },
     "execution_count": 97,
     "metadata": {},
     "output_type": "execute_result"
    }
   ],
   "source": [
    "modelAccuracy(cleanedModel, 3, dict, X_train, y_train) / len(X_train)"
   ]
  },
  {
   "cell_type": "code",
   "execution_count": 98,
   "metadata": {},
   "outputs": [
    {
     "data": {
      "text/plain": [
       "0.8544600938967136"
      ]
     },
     "execution_count": 98,
     "metadata": {},
     "output_type": "execute_result"
    }
   ],
   "source": [
    "modelAccuracy(cleanedModel, 3, dict, X_test, y_test) / len(X_test)"
   ]
  },
  {
   "cell_type": "code",
   "execution_count": 99,
   "metadata": {},
   "outputs": [],
   "source": [
    "def predictionScore(correctClass, membership):\n",
    "    return correctClass in membership"
   ]
  },
  {
   "cell_type": "code",
   "execution_count": 100,
   "metadata": {},
   "outputs": [
    {
     "data": {
      "text/plain": [
       "0.8529411764705882"
      ]
     },
     "execution_count": 100,
     "metadata": {},
     "output_type": "execute_result"
    }
   ],
   "source": [
    "modelAccuracy(cleanedModel, 3, dict, X_train, y_train) / len(X_train)"
   ]
  },
  {
   "cell_type": "code",
   "execution_count": 101,
   "metadata": {},
   "outputs": [
    {
     "data": {
      "text/plain": [
       "0.8568075117370892"
      ]
     },
     "execution_count": 101,
     "metadata": {},
     "output_type": "execute_result"
    }
   ],
   "source": [
    "modelAccuracy(cleanedModel, 3, dict, X_test, y_test) / len(X_test)"
   ]
  },
  {
   "cell_type": "code",
   "execution_count": 102,
   "metadata": {},
   "outputs": [
    {
     "data": {
      "text/plain": [
       "Index(['LBE', 'ASTV', 'ALTV', 'DL', 'DS', 'DP', 'Tendency'], dtype='object')"
      ]
     },
     "execution_count": 102,
     "metadata": {},
     "output_type": "execute_result"
    }
   ],
   "source": [
    "X_train.columns"
   ]
  },
  {
   "cell_type": "code",
   "execution_count": 106,
   "metadata": {},
   "outputs": [],
   "source": [
    "def modelAccuracyPerClasses(model, numberClasses, membershipDict, X_test, y_test):\n",
    "    dictionary = {}\n",
    "    dictionary[1] = 0\n",
    "    dictionary[2] = 0\n",
    "    dictionary[3] = 0\n",
    "    for i in range(len(X_test)):\n",
    "        fuzzyResult = fuzzyClassifyFromRules(model, numberClasses, membershipDict,X_test.iloc[i])\n",
    "        classOutputList = defuzzyfication(fuzzyResult)\n",
    "        if predictionScore(y_test.iloc[i] - 1, classOutputList) == 0:\n",
    "            dictionary[y_test.iloc[i]] += 1\n",
    "    return dictionary"
   ]
  },
  {
   "cell_type": "code",
   "execution_count": 107,
   "metadata": {},
   "outputs": [],
   "source": [
    "wrongDictionary = modelAccuracyPerClasses(cleanedModel, 3, dict, X_test, y_test)"
   ]
  },
  {
   "cell_type": "code",
   "execution_count": 109,
   "metadata": {},
   "outputs": [
    {
     "data": {
      "text/plain": [
       "{1: 16, 2: 37, 3: 8}"
      ]
     },
     "execution_count": 109,
     "metadata": {},
     "output_type": "execute_result"
    }
   ],
   "source": [
    "wrongDictionary"
   ]
  }
 ],
 "metadata": {
  "kernelspec": {
   "display_name": "Python 3",
   "language": "python",
   "name": "python3"
  },
  "language_info": {
   "codemirror_mode": {
    "name": "ipython",
    "version": 3
   },
   "file_extension": ".py",
   "mimetype": "text/x-python",
   "name": "python",
   "nbconvert_exporter": "python",
   "pygments_lexer": "ipython3",
   "version": "3.6.9"
  }
 },
 "nbformat": 4,
 "nbformat_minor": 4
}
